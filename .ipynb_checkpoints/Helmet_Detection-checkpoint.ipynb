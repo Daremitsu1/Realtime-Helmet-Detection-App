{
 "cells": [
  {
   "cell_type": "markdown",
   "id": "4204bbce",
   "metadata": {},
   "source": [
    "### 1. Getting Images"
   ]
  },
  {
   "cell_type": "code",
   "execution_count": 1,
   "id": "efc0d64a",
   "metadata": {
    "scrolled": true
   },
   "outputs": [],
   "source": [
    "# Install Dependencies\n",
    "\n",
    "import cv2\n",
    "import uuid"
   ]
  },
  {
   "cell_type": "code",
   "execution_count": 2,
   "id": "45d99378",
   "metadata": {},
   "outputs": [],
   "source": [
    "# Image Capture\n",
    "\n",
    "cap = cv2.VideoCapture(0)\n",
    "width = int(cap.get(cv2.CAP_PROP_FRAME_WIDTH))\n",
    "height = int(cap.get(cv2.CAP_PROP_FRAME_HEIGHT))"
   ]
  },
  {
   "cell_type": "code",
   "execution_count": null,
   "id": "9ecd87c8",
   "metadata": {},
   "outputs": [],
   "source": [
    "while True:\n",
    "    ret, frame = cap.read()\n",
    "    imgname = '.Images/Helmet/{}.jpg'.format(str(uuid.uuid1()))\n",
    "    cv2.imwrite(imgname, frame)\n",
    "    cv2.imshow('frame', frame)\n",
    "    \n",
    "    if cv2.waitKey(1) & 0xFF == ord('q'):\n",
    "        break"
   ]
  },
  {
   "cell_type": "code",
   "execution_count": null,
   "id": "6f82f52c",
   "metadata": {},
   "outputs": [],
   "source": [
    "cap.release()\n",
    "cap.destroyAllWindows()"
   ]
  },
  {
   "cell_type": "markdown",
   "id": "4425d5fb",
   "metadata": {},
   "source": [
    "#### 1.1 Training Model - Watson Studio"
   ]
  },
  {
   "cell_type": "markdown",
   "id": "e7393733",
   "metadata": {},
   "source": [
    "### 2. Scoring"
   ]
  },
  {
   "cell_type": "markdown",
   "id": "88a28d0f",
   "metadata": {},
   "source": [
    "### 3. Visualise"
   ]
  }
 ],
 "metadata": {
  "kernelspec": {
   "display_name": "Python 3 (ipykernel)",
   "language": "python",
   "name": "python3"
  },
  "language_info": {
   "codemirror_mode": {
    "name": "ipython",
    "version": 3
   },
   "file_extension": ".py",
   "mimetype": "text/x-python",
   "name": "python",
   "nbconvert_exporter": "python",
   "pygments_lexer": "ipython3",
   "version": "3.10.2"
  }
 },
 "nbformat": 4,
 "nbformat_minor": 5
}
